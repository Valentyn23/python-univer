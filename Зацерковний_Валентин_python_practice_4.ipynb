{
  "nbformat": 4,
  "nbformat_minor": 0,
  "metadata": {
    "colab": {
      "provenance": []
    },
    "kernelspec": {
      "name": "python3",
      "display_name": "Python 3"
    },
    "language_info": {
      "name": "python"
    }
  },
  "cells": [
    {
      "cell_type": "markdown",
      "source": [
        "# I. Functions. Arguments."
      ],
      "metadata": {
        "id": "-xM96SkgLNxS"
      }
    },
    {
      "cell_type": "markdown",
      "source": [
        "0. (5б) Назвіть 4 частини, з яких складається визначення функції."
      ],
      "metadata": {
        "id": "RFkkDC1jikAI"
      }
    },
    {
      "cell_type": "code",
      "source": [
        "def title(arg):\n",
        "  body\n",
        "  return result"
      ],
      "metadata": {
        "id": "tV4xxWnFisqZ"
      },
      "execution_count": null,
      "outputs": []
    },
    {
      "cell_type": "markdown",
      "source": [
        "1. (4б) Визначте функцію, що приймає 2 аргументи та повертає результат ділення 1го аргумента на інший."
      ],
      "metadata": {
        "id": "mg6qjOB2LbVs"
      }
    },
    {
      "cell_type": "code",
      "execution_count": 1,
      "metadata": {
        "id": "lUbA_FWjKxQD",
        "colab": {
          "base_uri": "https://localhost:8080/"
        },
        "outputId": "76991496-a1f9-41de-dc86-e39057f9847d"
      },
      "outputs": [
        {
          "output_type": "stream",
          "name": "stdout",
          "text": [
            "Результат ділення 10 на 2: 5.0\n"
          ]
        }
      ],
      "source": [
        "def podil(a, b):\n",
        "    if b != 0:\n",
        "        rezultat = a / b\n",
        "        return rezultat\n",
        "    else:\n",
        "        print(\"Ділення на нуль неможливе.\")\n",
        "arg1 = 10\n",
        "arg2 = 2\n",
        "result = podil(arg1, arg2)\n",
        "\n",
        "if result is not None:\n",
        "    print(f\"Результат ділення {arg1} на {arg2}: {result}\")"
      ]
    },
    {
      "cell_type": "markdown",
      "source": [
        "2. (2б) Викличте вище визначену функцію, де другий аргумент дорівнює 0."
      ],
      "metadata": {
        "id": "wMAYj2KXLpiJ"
      }
    },
    {
      "cell_type": "code",
      "source": [
        "arg1 = 8\n",
        "arg2 = 0\n",
        "result = podil(arg1, arg2)"
      ],
      "metadata": {
        "id": "103jJj32Lo4Y",
        "colab": {
          "base_uri": "https://localhost:8080/"
        },
        "outputId": "7fe67ccf-05ec-44d8-b79f-90c997685fc1"
      },
      "execution_count": 2,
      "outputs": [
        {
          "output_type": "stream",
          "name": "stdout",
          "text": [
            "Ділення на нуль неможливе.\n"
          ]
        }
      ]
    },
    {
      "cell_type": "markdown",
      "source": [
        "3. (6б) Перевизначте функцію так, щоби у випадку ділення на 0 функція повертала None, а в решті випадків - результат розрахунків."
      ],
      "metadata": {
        "id": "eT-pwEwPMD3T"
      }
    },
    {
      "cell_type": "code",
      "source": [
        "def podil(a, b):\n",
        "    if b != 0:\n",
        "        rezultat = a / b\n",
        "        return rezultat\n",
        "    else:\n",
        "        print(\"Ділення на нуль неможливе.\")\n",
        "        return None\n",
        "\n",
        "arg1 = 8\n",
        "arg2 = 0\n",
        "result = podil(arg1, arg2)\n",
        "\n",
        "if result is not None:\n",
        "    print(f\"Результат ділення {arg1} на {arg2}: {result}\")\n",
        "else:\n",
        "    print(\"Функція повернула None через ділення на нуль.\")"
      ],
      "metadata": {
        "id": "1h6Jz7CKMTk_",
        "colab": {
          "base_uri": "https://localhost:8080/"
        },
        "outputId": "c6b27d6d-36dc-431d-b764-0e149de3f9df"
      },
      "execution_count": 3,
      "outputs": [
        {
          "output_type": "stream",
          "name": "stdout",
          "text": [
            "Ділення на нуль неможливе.\n",
            "Функція повернула None через ділення на нуль.\n"
          ]
        }
      ]
    },
    {
      "cell_type": "markdown",
      "source": [
        "4. (5б) Напишіть документацію (docstring) у форматі Google до функції, що має обчислювати суму двох чисел."
      ],
      "metadata": {
        "id": "iuTiofyDMVMG"
      }
    },
    {
      "cell_type": "code",
      "source": [
        " \"\"\"\n",
        "    Обчислює суму двох чисел.\n",
        "\n",
        "    Args:\n",
        "        num1 (float): Перше число для додавання.\n",
        "        num2 (float): Друге число для додавання.\n",
        "\n",
        "    Returns:\n",
        "        float: Сума двох чисел (num1 + num2).\n",
        "    \"\"\""
      ],
      "metadata": {
        "id": "a9E6iU_iNyYQ",
        "colab": {
          "base_uri": "https://localhost:8080/",
          "height": 53
        },
        "outputId": "467e01f5-7807-4406-846b-3b166b8e97fe"
      },
      "execution_count": 5,
      "outputs": [
        {
          "output_type": "execute_result",
          "data": {
            "text/plain": [
              "'\\n   Обчислює суму двох чисел.\\n\\n   Args:\\n       num1 (float): Перше число для додавання.\\n       num2 (float): Друге число для додавання.\\n\\n   Returns:\\n       float: Сума двох чисел (num1 + num2).\\n   '"
            ],
            "application/vnd.google.colaboratory.intrinsic+json": {
              "type": "string"
            }
          },
          "metadata": {},
          "execution_count": 5
        }
      ]
    },
    {
      "cell_type": "markdown",
      "source": [
        "5. (4б) Реалізуйте цю функцію (із додаванням docstring у визначення функції)."
      ],
      "metadata": {
        "id": "ZvrsUQZFN5VT"
      }
    },
    {
      "cell_type": "code",
      "source": [
        "def sum_of_two_numbers(num1, num2):\n",
        "    return num1 + num2\n",
        "result = sum_of_two_numbers(5.3, 2.7)\n",
        "print(f\"Сума: {result}\")"
      ],
      "metadata": {
        "id": "K5h3KTVuOBP3",
        "colab": {
          "base_uri": "https://localhost:8080/"
        },
        "outputId": "996b5de7-653d-44e1-83e6-616bbadc5d84"
      },
      "execution_count": 6,
      "outputs": [
        {
          "output_type": "stream",
          "name": "stdout",
          "text": [
            "Сума: 8.0\n"
          ]
        }
      ]
    },
    {
      "cell_type": "markdown",
      "source": [
        "6. (6б) Визначте функцію, що віднімає одне число від іншого (підказка: це буде 2 аргументи функції). При чому, якщо не визначити, скільки саме має бути віднято від числа, за замовчуванням має відніматися 1. Викличте функцію, передаючи тільки один аргумент."
      ],
      "metadata": {
        "id": "IILi2wfYOwYb"
      }
    },
    {
      "cell_type": "code",
      "source": [
        "def vidnimanna(*args):\n",
        "    if len(args) == 1:\n",
        "      return args[0] - 1\n",
        "    return args[0] - args[1]\n",
        "\n",
        "\n",
        "print(vidnimanna(2,2))"
      ],
      "metadata": {
        "id": "hybHnk8ROvxQ",
        "colab": {
          "base_uri": "https://localhost:8080/"
        },
        "outputId": "218bf8ae-616b-4a9c-8649-a3dd3c6cb6c8"
      },
      "execution_count": 8,
      "outputs": [
        {
          "output_type": "stream",
          "name": "stdout",
          "text": [
            "0\n"
          ]
        }
      ]
    },
    {
      "cell_type": "markdown",
      "source": [
        "7. (10б) Визначте функцію, яка приймає iterable (ітерабельний обʼєкт, напр. список), що складається з 7ми рядкових значень - назв погодних умов (напр. \"sunny\") за кожен день у тижні. Повертає функція словник, де ключами є рядки з погодними умовами, а значеннями - кількість разів, скільки дана погода була протягом тижня (напр. {'sunny': 1, ...})."
      ],
      "metadata": {
        "id": "UK6o8zcuR7cH"
      }
    },
    {
      "cell_type": "code",
      "source": [
        "def count_weather_conditions(weekly_conditions):\n",
        "    weather_counts = {}\n",
        "    for condition in weekly_conditions:\n",
        "        weather_counts[condition] = weather_counts.get(condition, 0) + 1\n",
        "\n",
        "    return weather_counts\n",
        "\n",
        "weekly_conditions = [\"sunny\", \"rainy\", \"sunny\", \"cloudy\", \"rainy\", \"sunny\", \"cloudy\"]\n",
        "result = count_weather_conditions(weekly_conditions)\n",
        "print(result)"
      ],
      "metadata": {
        "id": "3gkR5gl0SyYO",
        "colab": {
          "base_uri": "https://localhost:8080/"
        },
        "outputId": "5fb6d5c8-e8f8-48cc-ed59-923345273962"
      },
      "execution_count": 9,
      "outputs": [
        {
          "output_type": "stream",
          "name": "stdout",
          "text": [
            "{'sunny': 3, 'rainy': 2, 'cloudy': 2}\n"
          ]
        }
      ]
    },
    {
      "cell_type": "markdown",
      "source": [
        "8. (3б) Викличте цю функцію тричі з різними аргументами та виведіть результати на екран."
      ],
      "metadata": {
        "id": "x4zhem_2Syf7"
      }
    },
    {
      "cell_type": "code",
      "source": [
        "weekly_conditions1 = [\"sunny\", \"rainy\", \"sunny\", \"cloudy\", \"rainy\", \"sunny\", \"cloudy\"]\n",
        "result1 = count_weather_conditions(weekly_conditions1)\n",
        "print(f\"Результат 1: {result1}\")\n",
        "\n",
        "weekly_conditions2 = [\"rainy\", \"sunny\", \"sunny\", \"rainy\", \"cloudy\", \"cloudy\", \"sunny\"]\n",
        "result2 = count_weather_conditions(weekly_conditions2)\n",
        "print(f\"Результат 2: {result2}\")\n",
        "\n",
        "weekly_conditions3 = [\"cloudy\", \"cloudy\", \"sunny\", \"sunny\", \"rainy\", \"rainy\", \"sunny\"]\n",
        "result3 = count_weather_conditions(weekly_conditions3)\n",
        "print(f\"Результат 3: {result3}\")"
      ],
      "metadata": {
        "id": "B0agh7urS0Fc",
        "colab": {
          "base_uri": "https://localhost:8080/"
        },
        "outputId": "7a859dd9-2ad5-4c62-e397-1b47c528084a"
      },
      "execution_count": 10,
      "outputs": [
        {
          "output_type": "stream",
          "name": "stdout",
          "text": [
            "Результат 1: {'sunny': 3, 'rainy': 2, 'cloudy': 2}\n",
            "Результат 2: {'rainy': 2, 'sunny': 3, 'cloudy': 2}\n",
            "Результат 3: {'cloudy': 2, 'sunny': 3, 'rainy': 2}\n"
          ]
        }
      ]
    },
    {
      "cell_type": "markdown",
      "source": [
        "9. (15б) Напишіть програму, яка б шукала необхідне число у **впорядкованому** списку цілочислених значень, де\n",
        "\n",
        "\n",
        "1.   число має вводитись з консолі.\n",
        "2.   власне алгоритм пошуку винесений в окрему функцію, яка повертає булеве значення (знайдено число - True, не знайдено - False).\n",
        "3. в залежності від результату функції, виведіть на екран повідомлення про успішний або ж неуспішний пошук.\n",
        "\n",
        "\n",
        "**Зауваження**: використовувати оператор **in** заборонено."
      ],
      "metadata": {
        "id": "bLgviTMlUlNG"
      }
    },
    {
      "cell_type": "code",
      "source": [
        "def find_in_list(array_nums, target):\n",
        "    i = 0\n",
        "    while len(array_nums) != i :\n",
        "      if array_nums[i] == target:\n",
        "        return True\n",
        "      i += 1\n",
        "    return False\n",
        "\n",
        "find_list = [1, 3, 4, 5, 7, 8, 10, 11, 15, 16, 17, 19, 20]\n",
        "target_num = int(input(\"Введіть число: \"))\n",
        "result = find_in_list(find_list, target_num)\n",
        "if result == True:\n",
        "  print(\"Таке число є в списку\")\n",
        "else:\n",
        "  print(\"Такого числа нема в списку\")"
      ],
      "metadata": {
        "id": "LAHz6MmdcWfP",
        "colab": {
          "base_uri": "https://localhost:8080/"
        },
        "outputId": "c01da0a5-9d3d-45e4-d1b3-79de9b4b7236"
      },
      "execution_count": 11,
      "outputs": [
        {
          "output_type": "stream",
          "name": "stdout",
          "text": [
            "Введіть число: 5\n",
            "Таке число є в списку\n"
          ]
        }
      ]
    },
    {
      "cell_type": "markdown",
      "source": [
        "# II. Lambda functions."
      ],
      "metadata": {
        "id": "wCKOEiKhLSld"
      }
    },
    {
      "cell_type": "markdown",
      "source": [
        "10. (6б) Визначте анонімну функцію, що виконувала б завдання з задачі №1."
      ],
      "metadata": {
        "id": "c4EBfW6QcXF7"
      }
    },
    {
      "cell_type": "code",
      "source": [
        "sum_numbers = lambda num1, num2: num1 + num2\n",
        "\n",
        "print(f\"Сума: {sum_numbers(1,2)}\")"
      ],
      "metadata": {
        "id": "sGgO6KjuhUj5",
        "colab": {
          "base_uri": "https://localhost:8080/"
        },
        "outputId": "414a70a2-92f8-4e86-86af-903f2cdcc7b4"
      },
      "execution_count": 12,
      "outputs": [
        {
          "output_type": "stream",
          "name": "stdout",
          "text": [
            "Сума: 3\n"
          ]
        }
      ]
    },
    {
      "cell_type": "markdown",
      "source": [
        "11. (5б) В яких випадках варто використовувати лямбда-функції?"
      ],
      "metadata": {
        "id": "fWa0efmRhepO"
      }
    },
    {
      "cell_type": "markdown",
      "source": [
        "Лямбда-функції варто використовувати для коротких, одноразових задач або випадків, коли потрібно передати невелику функцію як аргумент."
      ],
      "metadata": {
        "id": "R68BViaPhad_"
      }
    },
    {
      "cell_type": "markdown",
      "source": [
        "12. (9б) Визначте список з рядками. Після цього визначте анонімну функцію для отримання першого символу у верхньому регістрі для кожного рядка списку.\n",
        "*Підказка*: використовуйте анонімну функцію в якості агрумента до вбудованої ф-ції, яка створена для застосування функцій над iterable обʼєктами.\n",
        "Результат виведіть на екран у вигляді кортежу."
      ],
      "metadata": {
        "id": "0CL6ikIkhU7j"
      }
    },
    {
      "cell_type": "code",
      "source": [
        "list_of_strings = [\"no\", \"out\", \"three\", \"hourse\", \"independet\", \"not\", \"go\"]\n",
        "\n",
        "uppercase_first_char = lambda s: s[0].upper()\n",
        "\n",
        "result = tuple(map(uppercase_first_char, list_of_strings))\n",
        "\n",
        "print(result)"
      ],
      "metadata": {
        "id": "I1Lw2SSNhhJw",
        "colab": {
          "base_uri": "https://localhost:8080/"
        },
        "outputId": "e415a74c-69db-4fb3-bf8c-34b3b5f431f0"
      },
      "execution_count": 15,
      "outputs": [
        {
          "output_type": "stream",
          "name": "stdout",
          "text": [
            "('N', 'O', 'T', 'H', 'I', 'N', 'G')\n"
          ]
        }
      ]
    },
    {
      "cell_type": "markdown",
      "source": [
        "# III. Decorators."
      ],
      "metadata": {
        "id": "rgGmGt67m5yi"
      }
    },
    {
      "cell_type": "markdown",
      "source": [
        "13. (15б) Визначте декоратор, який би виводив у консоль повідомлення про початок роботи і назву функції, а після відпрацювання функції - повідомлення про закінчення роботи і назву функції, що задекорована."
      ],
      "metadata": {
        "id": "DZm1W0Qqncu8"
      }
    },
    {
      "cell_type": "code",
      "source": [
        "def log_function(func):\n",
        "    def wrapper(*args, **kwargs):\n",
        "        print(f\"Початок {func.__name__}\")\n",
        "        result = func(*args, **kwargs)\n",
        "        print(f\"Закінчення {func.__name__}\")\n",
        "        return result\n",
        "    return wrapper"
      ],
      "metadata": {
        "id": "5s3X3F6soer0"
      },
      "execution_count": 19,
      "outputs": []
    },
    {
      "cell_type": "markdown",
      "source": [
        "14. (7б) Задекоруйте функції з завдання 3, 5 та 6 декоратором із завдання 13. *Примітка*: продемонструйте 2 способи, як можна задекорувати функції (**УВАГА**: не декоруйте функції двічі!)."
      ],
      "metadata": {
        "id": "AlGt40oVofHB"
      }
    },
    {
      "cell_type": "code",
      "source": [
        "@log_function\n",
        "def division_fun(first_arg, second_arg):\n",
        "    if second_arg == 0:\n",
        "      return None\n",
        "    return first_arg / second_arg\n",
        "\n",
        "\n",
        "@log_function\n",
        "def fun_division(*args):\n",
        "    if len(args) == 1:\n",
        "      return args[0] - 1\n",
        "    return args[0] - args[1]\n",
        "\n",
        "\n",
        "@log_function\n",
        "def add_numbers(a, b):\n",
        "    return a + b"
      ],
      "metadata": {
        "id": "hkxhoRVqo1AW"
      },
      "execution_count": 20,
      "outputs": []
    },
    {
      "cell_type": "markdown",
      "source": [
        "15. (2б) Викличте одну з задекорованих функцій і виведіть її результат на екран."
      ],
      "metadata": {
        "id": "6QkS0Kxzo4UR"
      }
    },
    {
      "cell_type": "code",
      "source": [
        "print(division_fun(6,3),'\\n')\n",
        "\n",
        "print(fun_division(5),'\\n')\n",
        "\n",
        "print(add_numbers(5, 7),'\\n')"
      ],
      "metadata": {
        "id": "BCCCPai6o-y5",
        "colab": {
          "base_uri": "https://localhost:8080/"
        },
        "outputId": "e2b88a97-b417-4c4a-fc62-114d4812ac62"
      },
      "execution_count": 21,
      "outputs": [
        {
          "output_type": "stream",
          "name": "stdout",
          "text": [
            "Початок division_fun\n",
            "Закінчення division_fun\n",
            "2.0 \n",
            "\n",
            "Початок fun_division\n",
            "Закінчення fun_division\n",
            "4 \n",
            "\n",
            "Початок add_numbers\n",
            "Закінчення add_numbers\n",
            "12 \n",
            "\n"
          ]
        }
      ]
    },
    {
      "cell_type": "markdown",
      "source": [
        "# Вітаю! Ви велика(ий) молодець, що впоралась(вся). Похваліть себе та побалуйте чимось приємним. Я Вами пишаюся."
      ],
      "metadata": {
        "id": "CSN0Q5pMQVNQ"
      }
    }
  ]
}
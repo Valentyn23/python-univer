{
  "nbformat": 4,
  "nbformat_minor": 0,
  "metadata": {
    "colab": {
      "provenance": []
    },
    "kernelspec": {
      "name": "python3",
      "display_name": "Python 3"
    },
    "language_info": {
      "name": "python"
    }
  },
  "cells": [
    {
      "cell_type": "markdown",
      "source": [
        "# I. Змінні та памʼять."
      ],
      "metadata": {
        "id": "p9wwt0LZzNvn"
      }
    },
    {
      "cell_type": "markdown",
      "source": [
        "1. Створити змінні, що посилаються на два цілих числа, що однакові за значенням, де значення належить проміжку від -5 до 256. Чи будуть ці змінні рівні тільки за значенням або ж ще будуть посилатися на один і той самий обʼєкт в памʼяті? Наведіть код та дайте текстову відповідь нижче."
      ],
      "metadata": {
        "id": "HTJrrm95xSV9"
      }
    },
    {
      "cell_type": "code",
      "execution_count": 1,
      "metadata": {
        "id": "FHSFpb1bwTFG",
        "colab": {
          "base_uri": "https://localhost:8080/"
        },
        "outputId": "18836ad1-25db-41a5-c181-247e62de7649"
      },
      "outputs": [
        {
          "output_type": "stream",
          "name": "stdout",
          "text": [
            "a і b посилаються на один і той самий об'єкт\n"
          ]
        }
      ],
      "source": [
        "a = 100\n",
        "b = 100\n",
        "if a is b:\n",
        "    print(\"a і b посилаються на один і той самий об'єкт\")\n",
        "else:\n",
        "    print(\"a і b посилаються на різні об'єкти\")\n"
      ]
    },
    {
      "cell_type": "markdown",
      "source": [
        "2. Створити змінні, що посилаються на одне і те саме булеве значення. Чи будуть ці змінні рівні тільки за значенням або ж ще будуть посилатися на один і той самий обʼєкт в памʼяті? Наведіть код та дайте текстову відповідь нижче."
      ],
      "metadata": {
        "id": "N-soIzlV0Awv"
      }
    },
    {
      "cell_type": "code",
      "source": [
        "a = True\n",
        "b = True\n",
        "if a is b:\n",
        "    print(\"a і b посилаються на один і той самий об'єкт\")\n",
        "else:\n",
        "    print(\"a і b посилаються на різні об'єкти\")"
      ],
      "metadata": {
        "id": "qK1-VBih0Lgz"
      },
      "execution_count": null,
      "outputs": []
    },
    {
      "cell_type": "markdown",
      "source": [
        "*місце для текстової відповіді або коментарів *текст курсивом*"
      ],
      "metadata": {
        "id": "nD2SJcgaya4d"
      }
    },
    {
      "cell_type": "markdown",
      "source": [
        "3. За допомогою якої функції можна перевірити належність змінної до вказаного типу даних (напр. чи змінна посилається на значення булевого типу)?"
      ],
      "metadata": {
        "id": "ISORzt6M3vAt"
      }
    },
    {
      "cell_type": "code",
      "source": [
        "a = True\n",
        "if isinstance(a, bool):\n",
        "    print(\"a є булевим значенням\")\n",
        "else:\n",
        "    print(\"a не є булевим значенням\")"
      ],
      "metadata": {
        "id": "N7HHGm4H4CW7"
      },
      "execution_count": null,
      "outputs": []
    },
    {
      "cell_type": "markdown",
      "source": [
        "# II. Цілі числа та числа з рухомою комою"
      ],
      "metadata": {
        "id": "tRxugKAxwYLw"
      }
    },
    {
      "cell_type": "markdown",
      "source": [
        "4. Створити дві змінні, що посилаються на будь-які два цілих числа та продемонструвати такі арифметичні операції: додавання, віднімання, ділення, множення, ділення без залишку, ділення по модулю, приведення до ступеню. Всі результати операцій вивести на екран."
      ],
      "metadata": {
        "id": "NLHkgd5Gybc8"
      }
    },
    {
      "cell_type": "code",
      "source": [
        "a = 23\n",
        "b = 40\n",
        "\n",
        "\n",
        "result_1 = a + b\n",
        "print(\"додавання:\", result_1)\n",
        "\n",
        "\n",
        "result_2 = a - b\n",
        "print(\"віднімання:\", result_2)\n",
        "\n",
        "\n",
        "result_3 = a / b\n",
        "print(\"ділення:\", result_3)\n",
        "\n",
        "result_4 = a % b\n",
        "print(\"модуль:\", result_4)\n",
        "\n",
        "result_5 = a * b\n",
        "print(\"множення:\", result_5)\n",
        "\n",
        "\n",
        "result_6 = a // b\n",
        "print(\"ділення без остачі\", result_6)\n",
        "\n",
        "result_7 = a ** b\n",
        "print(\"ступінь:\", result_7);\n",
        "\n",
        "\n",
        "\n",
        "\n",
        "\n"
      ],
      "metadata": {
        "id": "Ck6JaN4Qysoc",
        "colab": {
          "base_uri": "https://localhost:8080/"
        },
        "outputId": "dfc9bfb7-b6e0-4402-8425-c11085f34066"
      },
      "execution_count": 2,
      "outputs": [
        {
          "output_type": "stream",
          "name": "stdout",
          "text": [
            "Додавання: 63\n",
            "Віднімання: -17\n",
            "Ділення: 0.575\n",
            "Ділення по модулю: 23\n",
            "Множення: 920\n",
            "Ділення без залишку: 0\n",
            "Піднесення до ступеня: 2945190837423705167875564697729320458241471826430830401\n"
          ]
        }
      ]
    },
    {
      "cell_type": "markdown",
      "source": [
        "5. Створити дві змінні, що посилаються на будь-які два числа з рухомою комою та продемонструвати такі арифметичні операції: додавання, віднімання, ділення, множення, ділення без залишку, ділення по модулю, приведення до ступеню. Всі результати операцій вивести на екран."
      ],
      "metadata": {
        "id": "tOT1crlty3cE"
      }
    },
    {
      "cell_type": "code",
      "source": [
        "a = 2.5\n",
        "b = 4.7\n",
        "\n",
        "\n",
        "result_1 = a + b\n",
        "print(\"додавання:\", result_1)\n",
        "\n",
        "\n",
        "result_2 = a - b\n",
        "print(\"віднімання:\", result_2)\n",
        "\n",
        "\n",
        "result_3 = a / b\n",
        "print(\"ділення:\", result_3)\n",
        "\n",
        "result_4 = a % b\n",
        "print(\"модуль:\", result_4)\n",
        "\n",
        "result_5 = a * b\n",
        "print(\"множення:\", result_5)\n",
        "\n",
        "\n",
        "result_6 = a // b\n",
        "print(\"ділення без остачі\", result_6)\n",
        "\n",
        "result_7 = a ** b\n",
        "print(\"ступінь:\", result_7);\n"
      ],
      "metadata": {
        "id": "m88_XOI9y-HI",
        "colab": {
          "base_uri": "https://localhost:8080/"
        },
        "outputId": "d9a4f491-1293-494d-d0e6-5780afdd245d"
      },
      "execution_count": 3,
      "outputs": [
        {
          "output_type": "stream",
          "name": "stdout",
          "text": [
            "додавання: 7.2\n",
            "віднімання: -2.2\n",
            "ділення: 0.5319148936170213\n",
            "модуль: 2.5\n",
            "множення: 11.75\n",
            "ділення без остачі 0.0\n",
            "ступінь: 74.18533134105215\n"
          ]
        }
      ]
    },
    {
      "cell_type": "markdown",
      "source": [
        "6. Спробуйте проробити всі ті самі арифметичні операції над двома змінними, що посилаються на різні булеві значення. Прокоментуйте, чому, на Вашу думку, Ви отримали саме такі результати."
      ],
      "metadata": {
        "id": "74jIsang0Yfe"
      }
    },
    {
      "cell_type": "code",
      "source": [
        "a = True\n",
        "b = False\n",
        "\n",
        "\n",
        "result_1 = a + b\n",
        "print(\"додавання:\", result_1)\n",
        "\n",
        "\n",
        "result_2 = a - b\n",
        "print(\"віднімання:\", result_2)\n",
        "\n",
        "\n",
        "result_3 = a / b\n",
        "print(\"ділення:\", result_3) #маємо помилку, тому що значення b(false) - це теж саме що 0, а на 0 ділити не можна\n",
        "\n",
        "result_4 = a % b\n",
        "print(\"модуль:\", result_4)\n",
        "\n",
        "result_5 = a * b\n",
        "print(\"множення:\", result_5)\n",
        "\n",
        "\n",
        "result_6 = a // b\n",
        "print(\"ділення без остачі\", result_6)\n",
        "\n",
        "result_7 = a ** b\n",
        "print(\"ступінь:\", result_7);\n",
        "\n"
      ],
      "metadata": {
        "id": "Py3JN4gU0eTq",
        "colab": {
          "base_uri": "https://localhost:8080/",
          "height": 290
        },
        "outputId": "18a84665-06ff-42dd-8a88-f394799683a7"
      },
      "execution_count": 10,
      "outputs": [
        {
          "output_type": "stream",
          "name": "stdout",
          "text": [
            "додавання: 1\n",
            "віднімання: 1\n"
          ]
        },
        {
          "output_type": "error",
          "ename": "ZeroDivisionError",
          "evalue": "ignored",
          "traceback": [
            "\u001b[0;31m---------------------------------------------------------------------------\u001b[0m",
            "\u001b[0;31mZeroDivisionError\u001b[0m                         Traceback (most recent call last)",
            "\u001b[0;32m<ipython-input-10-a3f4d948552e>\u001b[0m in \u001b[0;36m<cell line: 13>\u001b[0;34m()\u001b[0m\n\u001b[1;32m     11\u001b[0m \u001b[0;34m\u001b[0m\u001b[0m\n\u001b[1;32m     12\u001b[0m \u001b[0;34m\u001b[0m\u001b[0m\n\u001b[0;32m---> 13\u001b[0;31m \u001b[0mresult_3\u001b[0m \u001b[0;34m=\u001b[0m \u001b[0ma\u001b[0m \u001b[0;34m/\u001b[0m \u001b[0mb\u001b[0m\u001b[0;34m\u001b[0m\u001b[0;34m\u001b[0m\u001b[0m\n\u001b[0m\u001b[1;32m     14\u001b[0m \u001b[0mprint\u001b[0m\u001b[0;34m(\u001b[0m\u001b[0;34m\"ділення:\"\u001b[0m\u001b[0;34m,\u001b[0m \u001b[0mresult_3\u001b[0m\u001b[0;34m)\u001b[0m \u001b[0;31m#маємо помилку, тому що значення b(false) - це теж саме що 0, а на 0 ділити не можна\u001b[0m\u001b[0;34m\u001b[0m\u001b[0;34m\u001b[0m\u001b[0m\n\u001b[1;32m     15\u001b[0m \u001b[0;34m\u001b[0m\u001b[0m\n",
            "\u001b[0;31mZeroDivisionError\u001b[0m: division by zero"
          ]
        }
      ]
    },
    {
      "cell_type": "markdown",
      "source": [
        "маємо помилку, тому що значення b(false) - це теж саме що 0, а на 0 ділити не можна"
      ],
      "metadata": {
        "id": "-pY4SCvo0wMG"
      }
    },
    {
      "cell_type": "markdown",
      "source": [
        "7. Використовуючи змінні з вправи 3, продемонструйте механізм явного перетворення типів, де числа з рухомою комою перетворюються на цілі числа."
      ],
      "metadata": {
        "id": "1kBClKgPzZnC"
      }
    },
    {
      "cell_type": "code",
      "source": [
        "a = 2.5\n",
        "b = 4.7\n",
        "a_as_integer = int(a)\n",
        "b_as_integer = int(b)\n",
        "print(a_as_integer)\n",
        "print(b_as_integer)"
      ],
      "metadata": {
        "id": "akcVeUWYzlpb",
        "colab": {
          "base_uri": "https://localhost:8080/"
        },
        "outputId": "294843ec-8345-419d-f229-cecabe50288d"
      },
      "execution_count": 11,
      "outputs": [
        {
          "output_type": "stream",
          "name": "stdout",
          "text": [
            "2\n",
            "4\n"
          ]
        }
      ]
    },
    {
      "cell_type": "markdown",
      "source": [
        "# III. Робота зі списками."
      ],
      "metadata": {
        "id": "GYVqN9uP1D4n"
      }
    },
    {
      "cell_type": "markdown",
      "source": [
        "8. Створити список двома різними за синтаксисом способами. За допомогою вбудованої функції обчисліть довжину одного з них."
      ],
      "metadata": {
        "id": "7-DeDunw2sO-"
      }
    },
    {
      "cell_type": "code",
      "source": [
        "massiv = [1, 2, 3, 4, 5]\n",
        "\n",
        "lengh_massiv = len(massiv)\n",
        "print (lengh_massiv)"
      ],
      "metadata": {
        "id": "jY07arjK21hH",
        "colab": {
          "base_uri": "https://localhost:8080/"
        },
        "outputId": "ae16950a-5d2f-49e2-b247-03e68f9726f2"
      },
      "execution_count": 15,
      "outputs": [
        {
          "output_type": "stream",
          "name": "stdout",
          "text": [
            "5\n"
          ]
        }
      ]
    },
    {
      "cell_type": "markdown",
      "source": [
        "9. Створіть два списка та за допомогою спеціального методу додайте другий з них в якості останнього елемента першого."
      ],
      "metadata": {
        "id": "8vmGUTjL22gI"
      }
    },
    {
      "cell_type": "code",
      "source": [
        "a = [7, 1, 8]\n",
        "b = [4, 5, 6]\n",
        "\n",
        "a.append(b)\n",
        "print(a)"
      ],
      "metadata": {
        "id": "DSP6lO_m4cdV",
        "colab": {
          "base_uri": "https://localhost:8080/"
        },
        "outputId": "42c35b46-aa8e-4e1f-cc9f-922fd79cdb72"
      },
      "execution_count": 17,
      "outputs": [
        {
          "output_type": "stream",
          "name": "stdout",
          "text": [
            "[7, 1, 8, [4, 5, 6]]\n"
          ]
        }
      ]
    },
    {
      "cell_type": "markdown",
      "source": [
        "10. Створіть два списка та за допомогою спеціального методу \"розширте\" перший (додайте всі елементи другого в кінець першого списку). Напишіть, чим відрізняються методи в завданні 9 та 10."
      ],
      "metadata": {
        "id": "6ke6ng2j4dtq"
      }
    },
    {
      "cell_type": "code",
      "source": [
        "a = [7, 1, 8]\n",
        "b = [4, 5, 6]\n",
        "\n",
        "a.extend(b)\n",
        "print(a)"
      ],
      "metadata": {
        "id": "DVJVvu494q8d",
        "colab": {
          "base_uri": "https://localhost:8080/"
        },
        "outputId": "11b28571-e5c3-420e-8998-9491c27a3414"
      },
      "execution_count": 18,
      "outputs": [
        {
          "output_type": "stream",
          "name": "stdout",
          "text": [
            "[7, 1, 8, 4, 5, 6]\n"
          ]
        }
      ]
    },
    {
      "cell_type": "markdown",
      "source": [
        "append - додає цілий список до іншого як один елемент, а метод extend - додає до списку кожен елемент із смиску b  "
      ],
      "metadata": {
        "id": "LvEs8TGo6CaT"
      }
    },
    {
      "cell_type": "markdown",
      "source": [
        "11. Створіть список та відсортуйте його так, щоб:\n",
        "а) його id залишився незмінним після сортування.\n",
        "б) результат сортування був збережений у нову змінну. Підказка: для одного пункту використовуйте вбудовану функцію стортування, а в іншому - спеціальний метод для роботи зі списками."
      ],
      "metadata": {
        "id": "iu_NyJeR4vOu"
      }
    },
    {
      "cell_type": "code",
      "source": [
        "# a\n"
      ],
      "metadata": {
        "id": "LWdiIkDj5Nxo"
      },
      "execution_count": null,
      "outputs": []
    },
    {
      "cell_type": "code",
      "source": [
        "# b\n"
      ],
      "metadata": {
        "id": "JHl9vlFa5bHt"
      },
      "execution_count": null,
      "outputs": []
    },
    {
      "cell_type": "markdown",
      "source": [
        "12. Створіть список з елементами різного типу, де деякі значення елементів повторюються. За допомогою спеціального методу порахуйте кількість значень одного з елементів на Ваш вибір. Результат виведіть на екран."
      ],
      "metadata": {
        "id": "1l80guua5bia"
      }
    },
    {
      "cell_type": "code",
      "source": [
        "a = [319, 'lenovo', 2.5, 'hp', True, 'hp', -10, 'hp']\n",
        "count = a.count('hp')\n",
        "print(count)\n"
      ],
      "metadata": {
        "id": "tWFdczmv5z5Q",
        "colab": {
          "base_uri": "https://localhost:8080/"
        },
        "outputId": "186fbe24-428c-40e1-e22e-8c4550f79dc2"
      },
      "execution_count": 19,
      "outputs": [
        {
          "output_type": "stream",
          "name": "stdout",
          "text": [
            "3\n"
          ]
        }
      ]
    },
    {
      "cell_type": "markdown",
      "source": [
        "# IV. Робота з кортежами."
      ],
      "metadata": {
        "id": "pCjR1dJb1Qbi"
      }
    },
    {
      "cell_type": "markdown",
      "source": [
        "13. Створити список з один типом елементів та на основі цього списку створити кортеж."
      ],
      "metadata": {
        "id": "te3MAUYq28TV"
      }
    },
    {
      "cell_type": "code",
      "source": [
        "a = [1, 30, 50, 100]\n",
        "a_tuple = tuple(a)\n",
        "print(a_tuple)"
      ],
      "metadata": {
        "id": "uq3O114R2_H1",
        "colab": {
          "base_uri": "https://localhost:8080/"
        },
        "outputId": "ef6a6097-3d5e-4177-8a2f-7e45188cba58"
      },
      "execution_count": 20,
      "outputs": [
        {
          "output_type": "stream",
          "name": "stdout",
          "text": [
            "(1, 30, 50, 100)\n"
          ]
        }
      ]
    },
    {
      "cell_type": "markdown",
      "source": [
        "14. Створити кортеж з один елементом."
      ],
      "metadata": {
        "id": "fAZCxAX06R_k"
      }
    },
    {
      "cell_type": "code",
      "source": [
        "a = (1,)\n",
        "print(a)"
      ],
      "metadata": {
        "id": "-QWjudqk6kHd",
        "colab": {
          "base_uri": "https://localhost:8080/"
        },
        "outputId": "800161f9-4136-45a2-8549-ffef3cfe261f"
      },
      "execution_count": 21,
      "outputs": [
        {
          "output_type": "stream",
          "name": "stdout",
          "text": [
            "(1,)\n"
          ]
        }
      ]
    },
    {
      "cell_type": "markdown",
      "source": [
        "15. Створити кортеж. Вивести на екран всі доступні його атрибути та методи."
      ],
      "metadata": {
        "id": "VfTSJwQF7djZ"
      }
    },
    {
      "cell_type": "code",
      "source": [],
      "metadata": {
        "id": "x9elcFfr774r"
      },
      "execution_count": null,
      "outputs": []
    },
    {
      "cell_type": "markdown",
      "source": [
        "16. Порівняйте список та кортеж. Назвіть схожості та відмінності, випадки використання."
      ],
      "metadata": {
        "id": "8LCtYcmI6w1M"
      }
    },
    {
      "cell_type": "markdown",
      "source": [
        "схожості - вони обидва можуть зберігати в собі данні, а відмінності - кортежи працюють швидше, та занімають меньше пам`яті ніж звичайні списки\n",
        "\n"
      ],
      "metadata": {
        "id": "t9MwoWor7UVB"
      }
    },
    {
      "cell_type": "markdown",
      "source": [
        "# V. Індексування та слайсинг."
      ],
      "metadata": {
        "id": "QTP622J81iHk"
      }
    },
    {
      "cell_type": "markdown",
      "source": [
        "17. Створіть список з 6ти елементів. Отримайте третій елемент за допомогою двох різних індексів."
      ],
      "metadata": {
        "id": "4dmeIU-N9gHy"
      }
    },
    {
      "cell_type": "code",
      "source": [
        "a = [1, 30, 23, 100]\n",
        "b = a[3]\n",
        "c = a[-1]\n",
        "print(b , c)"
      ],
      "metadata": {
        "id": "47LTFhfH9pRe",
        "colab": {
          "base_uri": "https://localhost:8080/"
        },
        "outputId": "9598c00a-fdc9-485d-8fce-fe24142a8244"
      },
      "execution_count": 24,
      "outputs": [
        {
          "output_type": "stream",
          "name": "stdout",
          "text": [
            "100 100\n"
          ]
        }
      ]
    },
    {
      "cell_type": "markdown",
      "source": [
        "18. Створіть список, де елементами цього списку також є списки. Отримай перший елемент з останнього рядка та виведи значення на екран."
      ],
      "metadata": {
        "id": "JC3BkD-67_--"
      }
    },
    {
      "cell_type": "code",
      "source": [
        "a = [[1, 2, 3], [4, 5, 6], [7, 8, 9]]\n",
        "a_last = a[-1]\n",
        "a_first = a_last[0]\n",
        "print (a_first)"
      ],
      "metadata": {
        "id": "ctR2jdq68cB0",
        "colab": {
          "base_uri": "https://localhost:8080/"
        },
        "outputId": "744cca6a-9aa2-47f1-f6a6-11862e86bfc6"
      },
      "execution_count": 26,
      "outputs": [
        {
          "output_type": "stream",
          "name": "stdout",
          "text": [
            "7\n"
          ]
        }
      ]
    },
    {
      "cell_type": "markdown",
      "source": [
        "19. Створіть кортеж, що містить 8  елементів цілочисленного типу. Виведіть на екран три найменших значення."
      ],
      "metadata": {
        "id": "A-hPrvOS8cjx"
      }
    },
    {
      "cell_type": "code",
      "source": [],
      "metadata": {
        "id": "GPxJKNUm8xHU"
      },
      "execution_count": null,
      "outputs": []
    },
    {
      "cell_type": "markdown",
      "source": [
        "20. Створіть список з десяти елементів різного типу. Отримайте всі елементи, окрім двох перших та двох останніх та збережіть їх в новій змінній."
      ],
      "metadata": {
        "id": "JA47PKTv8zFK"
      }
    },
    {
      "cell_type": "code",
      "source": [
        "a = [20, 'John', False, 31, 0.3, 'Valentyn', -42, None, 'Python', 3.14]\n",
        "b = a[2:-2]\n",
        "print (b)"
      ],
      "metadata": {
        "id": "g-GAQS_kAlmr",
        "colab": {
          "base_uri": "https://localhost:8080/"
        },
        "outputId": "220aa20c-ba3f-4478-fd5b-cc42e7384805"
      },
      "execution_count": 27,
      "outputs": [
        {
          "output_type": "stream",
          "name": "stdout",
          "text": [
            "[False, 31, 0.3, 'Valentyn', -42, None]\n"
          ]
        }
      ]
    },
    {
      "cell_type": "markdown",
      "source": [
        "21. Створіть кортеж з 11ти елементів чисел з рухомою комою та отримайте кожен парний за індексом елемент в зворотньому порядку. Наприклад, маючи (1.2, 2.3, 3.3, 4.3, 5.3, 6.3, 7.3, 8.3, 9.3, 0.3), отримати (0.3, 8.3, 6.3, 4.3, 2.3). Результат збережіть в нову змінну та виведіть на екран."
      ],
      "metadata": {
        "id": "m0xrwFijAmDD"
      }
    },
    {
      "cell_type": "code",
      "source": [
        "a = (1.2, 2.3, 3.3, 4.3, 5.3, 6.3, 7.3, 8.3, 9.3, 0.3)\n",
        "b = a[::-2]\n",
        "print (b)"
      ],
      "metadata": {
        "id": "BQwYLEXdBVBo",
        "colab": {
          "base_uri": "https://localhost:8080/"
        },
        "outputId": "cf5c3213-c013-488f-af77-185f1c70c263"
      },
      "execution_count": 28,
      "outputs": [
        {
          "output_type": "stream",
          "name": "stdout",
          "text": [
            "(0.3, 8.3, 6.3, 4.3, 2.3)\n"
          ]
        }
      ]
    },
    {
      "cell_type": "markdown",
      "source": [
        "# Вітаю! Ви велика(ий) молодець, що впоралась(вся). Похваліть себе та побалуйте чимось приємним. Я Вами пишаюся."
      ],
      "metadata": {
        "id": "F0ArvieRBZsG"
      }
    }
  ]
}
{
  "nbformat": 4,
  "nbformat_minor": 0,
  "metadata": {
    "colab": {
      "provenance": []
    },
    "kernelspec": {
      "name": "python3",
      "display_name": "Python 3"
    },
    "language_info": {
      "name": "python"
    }
  },
  "cells": [
    {
      "cell_type": "markdown",
      "source": [
        "# I. Рядки (String)."
      ],
      "metadata": {
        "id": "EVJ7AflwxrZi"
      }
    },
    {
      "cell_type": "markdown",
      "source": [
        "1. Створити пустий рядок двома різними способами."
      ],
      "metadata": {
        "id": "_s5ECzz9zE61"
      }
    },
    {
      "cell_type": "code",
      "execution_count": 3,
      "metadata": {
        "id": "HsDOUUMWxo6D"
      },
      "outputs": [],
      "source": [
        "a = \"Hello World\"\n",
        "b = str()"
      ]
    },
    {
      "cell_type": "markdown",
      "source": [
        "2. Створити рядок з апострофом."
      ],
      "metadata": {
        "id": "4Bdn9J3MzLf_"
      }
    },
    {
      "cell_type": "code",
      "source": [
        "a = \"ад'ютант\""
      ],
      "metadata": {
        "id": "OjyFU0iKzPc2"
      },
      "execution_count": null,
      "outputs": []
    },
    {
      "cell_type": "markdown",
      "source": [
        "3. Створити рядок з символом переходу на новий рядок та роздрукувати його в консоль."
      ],
      "metadata": {
        "id": "qj7LjXFazbx1"
      }
    },
    {
      "cell_type": "code",
      "source": [
        "a = \"Zatserkovnyi \\n Vakentyn \"\n",
        "print (a)"
      ],
      "metadata": {
        "id": "K9J-tLXczmyo",
        "colab": {
          "base_uri": "https://localhost:8080/"
        },
        "outputId": "2c43a8a1-0356-4404-f5c5-23632b90e18f"
      },
      "execution_count": 4,
      "outputs": [
        {
          "output_type": "stream",
          "name": "stdout",
          "text": [
            "Zatserkovnyi \n",
            " Vakentyn \n"
          ]
        }
      ]
    },
    {
      "cell_type": "markdown",
      "source": [
        "4. Зробити рядок з завдання №3 \"сирим\"(raw), вивести в консоль та порівняти з результатом в попередному завданні."
      ],
      "metadata": {
        "id": "XEYGh-BGzzfD"
      }
    },
    {
      "cell_type": "code",
      "source": [
        "a_raw = r\"Zatserkovnyi \\n Vakentyn\"\n",
        "print (a_raw)"
      ],
      "metadata": {
        "id": "0Mb7qYqgzntd",
        "colab": {
          "base_uri": "https://localhost:8080/"
        },
        "outputId": "c65247a6-e95f-4379-87ca-918556d7066d"
      },
      "execution_count": 11,
      "outputs": [
        {
          "output_type": "stream",
          "name": "stdout",
          "text": [
            "Zatserkovnyi \\n Vakentyn\n"
          ]
        }
      ]
    },
    {
      "cell_type": "markdown",
      "source": [
        "У сирому рядку \\n не інтерпретується як символ нового рядка"
      ],
      "metadata": {
        "id": "xLM76Cnfz3T_"
      }
    },
    {
      "cell_type": "markdown",
      "source": [
        "5. Створити змінну, що буде посилатися на Ваше прізвище латинкою. Створити форматований рядок, який буде мати вигляд \"My surname is ______\", де на місці нижніх підкреслень буде Ваше прізвище зі змінної."
      ],
      "metadata": {
        "id": "bg_d8wM4z8dS"
      }
    },
    {
      "cell_type": "code",
      "source": [
        "surname = \"Zatserkovnyi\"\n",
        "print (f\"My surname is - {surname}\")"
      ],
      "metadata": {
        "id": "Cr847KKpz7zF",
        "colab": {
          "base_uri": "https://localhost:8080/"
        },
        "outputId": "5923f602-cc3f-44a4-d597-4ddec81d6ad0"
      },
      "execution_count": 16,
      "outputs": [
        {
          "output_type": "stream",
          "name": "stdout",
          "text": [
            "My surname is - Zatserkovnyi\n"
          ]
        }
      ]
    },
    {
      "cell_type": "markdown",
      "source": [
        "6. Маючи рядок \"My dog is crazy.\" перетворити його на список [\"my\", \"dog\", \"is\", \"crazy\"]"
      ],
      "metadata": {
        "id": "1Nc6RqvQ0hxU"
      }
    },
    {
      "cell_type": "code",
      "source": [
        "a = \"My dog is crazy\"\n",
        "b = a.split()\n",
        "print (b)"
      ],
      "metadata": {
        "id": "dGU4MImR063l",
        "colab": {
          "base_uri": "https://localhost:8080/"
        },
        "outputId": "401bc4ae-9bd7-4256-af3c-443552eec382"
      },
      "execution_count": 17,
      "outputs": [
        {
          "output_type": "stream",
          "name": "stdout",
          "text": [
            "['My', 'dog', 'is', 'crazy']\n"
          ]
        }
      ]
    },
    {
      "cell_type": "markdown",
      "source": [
        "# II. Множини (Set)."
      ],
      "metadata": {
        "id": "rW_I9dt3x6cW"
      }
    },
    {
      "cell_type": "markdown",
      "source": [
        "7. Створити множину без елементів. Після цого за допомогою методу додайте кілька різних елементів до множини. Чи множини є змінним типом даних?"
      ],
      "metadata": {
        "id": "zNjRLHLw1Bgg"
      }
    },
    {
      "cell_type": "code",
      "source": [
        "numbers = set()\n",
        "numbers.add(1)\n",
        "numbers.add(2)\n",
        "numbers.add(3)\n",
        "numbers.add(4)\n",
        "numbers.add(5)\n",
        "print(numbers)"
      ],
      "metadata": {
        "id": "CB72VZWZ1A7c",
        "colab": {
          "base_uri": "https://localhost:8080/"
        },
        "outputId": "9eec7119-c878-4246-df89-8ebdd5467762"
      },
      "execution_count": 18,
      "outputs": [
        {
          "output_type": "stream",
          "name": "stdout",
          "text": [
            "{1, 2, 3, 4, 5}\n"
          ]
        }
      ]
    },
    {
      "cell_type": "markdown",
      "source": [
        "Так, ми можемо додавати, та видаляти змінні, змінювати їх зміст"
      ],
      "metadata": {
        "id": "tqxtcfgK4Wkx"
      }
    },
    {
      "cell_type": "markdown",
      "source": [
        "8. Створити множину, маючи список my_list = [1, 1, 2, 67, 67, 8, 9]. Пояснити, чому \"зникли\" деякі елементи."
      ],
      "metadata": {
        "id": "gHpT0Zw_1HEF"
      }
    },
    {
      "cell_type": "code",
      "source": [
        "my_list = [1, 1, 2, 67, 67, 8, 9]\n",
        "a = set(my_list)\n",
        "print(a) #виводить лише унікальні значення, дублікати не виводить"
      ],
      "metadata": {
        "id": "U5YnFsPp1OCU",
        "colab": {
          "base_uri": "https://localhost:8080/"
        },
        "outputId": "ff7fb155-6574-45ea-c107-f191ade214aa"
      },
      "execution_count": 20,
      "outputs": [
        {
          "output_type": "stream",
          "name": "stdout",
          "text": [
            "{1, 2, 67, 8, 9}\n"
          ]
        }
      ]
    },
    {
      "cell_type": "markdown",
      "source": [
        "9. Створіть дві множини. Продемонстуйте над ними операції: обʼєднання, різниці, пересічі та симетричної різниці. Використовуйте методи, що не змінюють множини, а створюють нові."
      ],
      "metadata": {
        "id": "SRMkGizS1UwY"
      }
    },
    {
      "cell_type": "code",
      "source": [
        "set_one = {1, 2, 3, 4, 5}\n",
        "set_two = {6, 2, 1, 9, 8}\n",
        "print(set_one.union(set_two))\n",
        "print(set_one.difference(set_two))\n",
        "print(set_one.intersection(set_two))\n",
        "print(set_one.symmetric_difference(set_two))"
      ],
      "metadata": {
        "id": "pj5ta1CS2LAa",
        "colab": {
          "base_uri": "https://localhost:8080/"
        },
        "outputId": "141fba0a-dbbb-41ec-fad4-88d861d977db"
      },
      "execution_count": 21,
      "outputs": [
        {
          "output_type": "stream",
          "name": "stdout",
          "text": [
            "{1, 2, 3, 4, 5, 6, 8, 9}\n",
            "{3, 4, 5}\n",
            "{1, 2}\n",
            "{3, 4, 5, 6, 8, 9}\n"
          ]
        }
      ]
    },
    {
      "cell_type": "markdown",
      "source": [
        "10. Створіть множину з пʼяти елементів. За допомогою спеціального методу, вилучіть три елементи один за одним з множини. Чи може гарантуватися порядок елементів у множинах?"
      ],
      "metadata": {
        "id": "ECo4rGAW2e4S"
      }
    },
    {
      "cell_type": "code",
      "source": [
        "a = {1, 2, 3, 4, 5}\n",
        "el1 = a.pop()\n",
        "el2 = a.pop()\n",
        "el3 = a.pop()\n",
        "print(\"1-\", el1)\n",
        "print(\"2-\", el2)\n",
        "print(\"3-\", el3)\n",
        "print(a)"
      ],
      "metadata": {
        "id": "tCoJigA-4Ryd",
        "colab": {
          "base_uri": "https://localhost:8080/"
        },
        "outputId": "ac542664-c8f8-4bbc-bc2b-edef221a7a10"
      },
      "execution_count": 22,
      "outputs": [
        {
          "output_type": "stream",
          "name": "stdout",
          "text": [
            "1- 1\n",
            "2- 2\n",
            "3- 3\n",
            "{4, 5}\n"
          ]
        }
      ]
    },
    {
      "cell_type": "markdown",
      "source": [
        "У страрих версіях пайтон не можна було гарантувати порядок елементів, а зараз так, порядок елементів зберігається\n",
        "\n"
      ],
      "metadata": {
        "id": "t7f5oKmP2qum"
      }
    },
    {
      "cell_type": "markdown",
      "source": [
        "# III. Словники (Dictionary)."
      ],
      "metadata": {
        "id": "kWc8gkzTx7Ea"
      }
    },
    {
      "cell_type": "markdown",
      "source": [
        "11. Створіть пустий словник двома способами."
      ],
      "metadata": {
        "id": "FHIRdwck2uji"
      }
    },
    {
      "cell_type": "code",
      "source": [
        "dict1 = {}\n",
        "dict2 = dict()"
      ],
      "metadata": {
        "id": "sF2WCzwJ2yDq"
      },
      "execution_count": 23,
      "outputs": []
    },
    {
      "cell_type": "markdown",
      "source": [
        "12. До одного зі словників вище додайте чотири пари елементів такі, щоб їхні ключі були різних типів."
      ],
      "metadata": {
        "id": "i5FLwj-B2ybQ"
      }
    },
    {
      "cell_type": "code",
      "source": [
        "dict1 = {}\n",
        "dict1[\"name\"] = \"Valentyn\"\n",
        "dict1[(19)] = \"y.o\"\n",
        "dict1[(12.08)] = \"date\"\n",
        "dict1[(12, 5)] = \"numbers\"\n",
        "print(dict1)"
      ],
      "metadata": {
        "id": "lqunD0EZ2_Vg",
        "colab": {
          "base_uri": "https://localhost:8080/"
        },
        "outputId": "5845e957-b66e-426d-d9bf-66147cb860ed"
      },
      "execution_count": 24,
      "outputs": [
        {
          "output_type": "stream",
          "name": "stdout",
          "text": [
            "{'name': 'Valentyn', 19: 'y.o', 12.08: 'date', (12, 5): 'numbers'}\n"
          ]
        }
      ]
    },
    {
      "cell_type": "markdown",
      "source": [
        "Ключі у словниках повинні бути незмінними, тому не може бути ключем у словнику.\n",
        "\n",
        "Значенням у словнику може бути будь-який об'єкт, включаючи список. Тобто, словник дозволяє зберігати об'єкти різних типів, включаючи списки."
      ],
      "metadata": {
        "id": "XOD2Aaj13Bqx"
      }
    },
    {
      "cell_type": "markdown",
      "source": [
        "13. Використовуючи той самий словник, отримайте по ключу будь-яке значення з наявних. Тепер видаліть цю пару ключ-значення. Спробуйте знову отримати значення по цьому ж ключу. Використовуючи спеціальний метод, виправте помилку."
      ],
      "metadata": {
        "id": "9Tjhmuf73KE6"
      }
    },
    {
      "cell_type": "code",
      "source": [
        "a = {\"key1\": \"15sf\", \"key2\": \"number\", \"key3\": \"keys\"}\n",
        "value = a.get(\"key3\", \"значення по ключу\")\n",
        "print(\"Значення'key3'-\", value)\n",
        "del a[\"key3\"]\n",
        "value = a.get(\"key3\", \"значення по ключу\")\n",
        "print(\"Значення 'key3'-\", value)"
      ],
      "metadata": {
        "id": "cNMenuGQ3JMa",
        "colab": {
          "base_uri": "https://localhost:8080/"
        },
        "outputId": "f1885ef7-90e8-41bb-cbb6-cab74f9065a9"
      },
      "execution_count": 26,
      "outputs": [
        {
          "output_type": "stream",
          "name": "stdout",
          "text": [
            "Значення'key3'- keys\n",
            "Значення 'key3'- значення по ключу\n"
          ]
        }
      ]
    },
    {
      "cell_type": "markdown",
      "source": [
        "# IV. Оператори порівняння та логічні оператори. Умови."
      ],
      "metadata": {
        "id": "SLtQabwUx7Xc"
      }
    },
    {
      "cell_type": "markdown",
      "source": [
        "14. Створіть цілочисленну змінну зі своїм щасливим або улюбленим числом. Напишіть код, який би автоматизовував наступну задачу.\n",
        "\n",
        "Якщо число парне, помножте його на 2 та виведіть результат на екран.\n",
        "\n",
        "Але якщо число непарне, помножте його на 3 та додайте 1 і виведіть на екран.\n"
      ],
      "metadata": {
        "id": "SrehzC-n3-ln"
      }
    },
    {
      "cell_type": "code",
      "source": [
        "num = 12\n",
        "if num % 2 == 0:\n",
        "    result = num * 2\n",
        "else:\n",
        "    result = num * 3 + 1\n",
        "print(result)\n"
      ],
      "metadata": {
        "id": "g0cchKGl3-Gq",
        "colab": {
          "base_uri": "https://localhost:8080/"
        },
        "outputId": "3db6aa8f-c7b6-4a5b-bd87-8656e2232027"
      },
      "execution_count": 27,
      "outputs": [
        {
          "output_type": "stream",
          "name": "stdout",
          "text": [
            "24\n"
          ]
        }
      ]
    },
    {
      "cell_type": "markdown",
      "source": [
        "15. Створіть рядок зі своїм імʼям латинкою. Напишіть код, який би автоматизовував наступну задачу.\n",
        "\n",
        "Якщо в імені є літера \"а\"\n",
        " або \"i\", Виведіть на екран повідомлення \"A or I is in the name\".\n",
        "\n",
        "\n",
        "\n",
        "Якщо в імені є літери \"o\" та \"n\", Виведіть на екран повідомлення \"O and N is in the name\".\n",
        "\n",
        "Також якщо в імені немає літери \"о\", але є \"n\", Виведіть на екран повідомлення \"Only N is in the name\".\n",
        "\n",
        "В решті випадків виведіть на екран повідомлення \"There is no N in the name, but there might be O\".\n",
        "\n",
        "Зверніть увагу, що, наприклад, для імені \"Antonina\" буде виведено два повідомлення."
      ],
      "metadata": {
        "id": "PRXLVdU26E5Z"
      }
    },
    {
      "cell_type": "code",
      "source": [
        "name = \"Valentyn\"\n",
        "if \"a\" in name or \"i\" in name:\n",
        "    print(\"A or I is in the name\")\n",
        "if \"o\" in name and \"n\" in name:\n",
        "    print(\"O and N is in the name\")\n",
        "if \"n\" in name and \"o\" not in name:\n",
        "    print(\"Only N is in the name\")\n",
        "if \"n\" not in name:\n",
        "    print(\"There is no N in the name, but there might be O\")"
      ],
      "metadata": {
        "id": "bQlf4ZUh6Pdz",
        "colab": {
          "base_uri": "https://localhost:8080/"
        },
        "outputId": "444837ce-0893-45b3-8f31-b62ca1636245"
      },
      "execution_count": 29,
      "outputs": [
        {
          "output_type": "stream",
          "name": "stdout",
          "text": [
            "A or I is in the name\n",
            "Only N is in the name\n"
          ]
        }
      ]
    },
    {
      "cell_type": "markdown",
      "source": [
        "# Вітаю! Ви велика(ий) молодець, що впоралась(вся). Похваліть себе та побалуйте чимось приємним. Я Вами пишаюся."
      ],
      "metadata": {
        "id": "xOZP0hkx6cCr"
      }
    }
  ]
}
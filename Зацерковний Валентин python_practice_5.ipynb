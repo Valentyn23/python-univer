{
  "nbformat": 4,
  "nbformat_minor": 0,
  "metadata": {
    "colab": {
      "provenance": []
    },
    "kernelspec": {
      "name": "python3",
      "display_name": "Python 3"
    },
    "language_info": {
      "name": "python"
    }
  },
  "cells": [
    {
      "cell_type": "markdown",
      "source": [
        "# I. OOP"
      ],
      "metadata": {
        "id": "awfU0tMnOlHH"
      }
    },
    {
      "cell_type": "markdown",
      "source": [
        "1. (7б). Створіть клас Animal, додайте docstring, три атрибути, один з яких має значення за замовчуванням та два методи на свій розсуд."
      ],
      "metadata": {
        "id": "T6r88C4sOwbI"
      }
    },
    {
      "cell_type": "code",
      "source": [
        "class Animal:\n",
        "  def __init__(self, kind, name, age=0):\n",
        "    self.kind = kind\n",
        "    self.age = age\n",
        "    self.name = name\n",
        "\n",
        "  def get_name(self):\n",
        "    print(self.name)\n",
        "\n",
        "  def set_age(self, age):\n",
        "    self.age = age\n",
        "    print(f'змінено на {self.age}')"
      ],
      "metadata": {
        "id": "fWXuCGV8Oqrn"
      },
      "execution_count": 1,
      "outputs": []
    },
    {
      "cell_type": "markdown",
      "source": [
        "1.1. (5б). Створіть два обʼєкти цього класу. На одному обʼєкті отримайте значення його атрибуту, а на іншому викличте один з його методів."
      ],
      "metadata": {
        "id": "CTu5Dt0_UKul"
      }
    },
    {
      "cell_type": "code",
      "source": [
        "animal1 = Animal(kind=\"Dog\", name=\"Buddy\", age=3)\n",
        "animal2 = Animal(kind=\"Cat\", name=\"Whiskers\")\n",
        "print(f\"{animal1.name} is a {animal1.age}-year-old {animal1.kind}.\")\n",
        "animal2.get_name()"
      ],
      "metadata": {
        "id": "nLQqAIlKUQRP",
        "colab": {
          "base_uri": "https://localhost:8080/"
        },
        "outputId": "237cfe27-1188-4dc9-e97a-a348c97104f9"
      },
      "execution_count": 2,
      "outputs": [
        {
          "output_type": "stream",
          "name": "stdout",
          "text": [
            "Buddy is a 3-year-old Dog.\n",
            "Whiskers\n"
          ]
        }
      ]
    },
    {
      "cell_type": "markdown",
      "source": [
        "2. (9б). Створіть клас, де атрибути мають різні рівні доступу. Спробуйте отримати їхні значення та опишіть результати."
      ],
      "metadata": {
        "id": "3KKpQYcWRNgj"
      }
    },
    {
      "cell_type": "code",
      "source": [
        "class Monkey:\n",
        "    def __init__(self, name, age):\n",
        "        self.__name = name\n",
        "        self._age = age\n",
        "\n",
        "    def get_name(self):\n",
        "      print(self.__name)\n",
        "anim = Monkey('Alpa', 10)\n",
        "anim.get_name()\n",
        "anim._age"
      ],
      "metadata": {
        "id": "PlMQmzciRM_D",
        "colab": {
          "base_uri": "https://localhost:8080/"
        },
        "outputId": "272cca8d-e46a-4180-9c92-b177f26a1650"
      },
      "execution_count": 4,
      "outputs": [
        {
          "output_type": "stream",
          "name": "stdout",
          "text": [
            "Alpa\n"
          ]
        },
        {
          "output_type": "execute_result",
          "data": {
            "text/plain": [
              "10"
            ]
          },
          "metadata": {},
          "execution_count": 4
        }
      ]
    },
    {
      "cell_type": "markdown",
      "source": [
        "3. (8б). Як ви розумієте термін self? Для чого використовується метод __init __?"
      ],
      "metadata": {
        "id": "iaoOLp4RRZyc"
      }
    },
    {
      "cell_type": "markdown",
      "source": [
        "self вказує на екземпляр класу, тобто об'єкт, для якого викликається метод. Метод __init__ використовується для ініціалізації атрибутів об'єкта класу при його створенні.*місце для відповіді*"
      ],
      "metadata": {
        "id": "-yuvBRjFRlz5"
      }
    },
    {
      "cell_type": "markdown",
      "source": [
        "4. (8б). Створіть клас Фігура без атрибутів, з методом get_area для отримання площі фігури, що повертає 0 та __add __, який приймає self та other в якості аргументів, а повертає суму площин фігур self та other."
      ],
      "metadata": {
        "id": "nVectYeATZAi"
      }
    },
    {
      "cell_type": "code",
      "source": [
        "class Figure:\n",
        "    def get_area(self):\n",
        "        return 0\n",
        "    def __add__(self, other):\n",
        "        return self.get_area() + other.get_area()"
      ],
      "metadata": {
        "id": "EYvcpzHbRZLz"
      },
      "execution_count": 5,
      "outputs": []
    },
    {
      "cell_type": "markdown",
      "source": [
        "5. (11б). Створіть 2 дочірніх класи від Фігури: Трикутник та Коло, які мають атрибути, необхідні для розрахунку площин. Визначте метод get_area в кожному з них так, щоби вони розраховували площу в залежності від формули для кожного типу фігури. Створіть обʼєкт класу Трикутник та обʼєкт класу Коло. Виконайте операцію суми за допомогою оператора + між ними."
      ],
      "metadata": {
        "id": "PheOkqlCg9SD"
      }
    },
    {
      "cell_type": "code",
      "source": [
        "import math\n",
        "\n",
        "class Figure:\n",
        "    def get_area(self):\n",
        "        return 0\n",
        "\n",
        "    def __add__(self, other):\n",
        "        return self.get_area() + other.get_area()\n",
        "\n",
        "class Triangle(Figure):\n",
        "    def __init__(self, base, height):\n",
        "        self.base = base\n",
        "        self.height = height\n",
        "\n",
        "    def get_area(self):\n",
        "        return 0.5 * self.base * self.height\n",
        "\n",
        "class Circle(Figure):\n",
        "    def __init__(self, radius):\n",
        "        self.radius = radius\n",
        "\n",
        "    def get_area(self):\n",
        "        return math.pi * self.radius**2\n",
        "\n",
        "triangle = Triangle(base=5, height=8)\n",
        "circle = Circle(radius=4)\n",
        "\n",
        "area_triangle = triangle.get_area()\n",
        "\n",
        "area_circle = circle.get_area()\n",
        "\n",
        "sum_of_areas = triangle + circle\n",
        "\n",
        "print(f\"Площа трикутника: {area_triangle}\")\n",
        "print(f\"Площа кола: {area_circle}\")\n",
        "print(f\"Сума площин трикутника та кола: {sum_of_areas}\")"
      ],
      "metadata": {
        "id": "7Jo8-rqlhNSw",
        "colab": {
          "base_uri": "https://localhost:8080/"
        },
        "outputId": "1ec60850-dfc7-440f-b029-a1f93ab7da8f"
      },
      "execution_count": 6,
      "outputs": [
        {
          "output_type": "stream",
          "name": "stdout",
          "text": [
            "Площа трикутника: 20.0\n",
            "Площа кола: 50.26548245743669\n",
            "Сума площин трикутника та кола: 70.26548245743669\n"
          ]
        }
      ]
    },
    {
      "cell_type": "markdown",
      "source": [
        "6. (7б). Продемонструйте різницю між isinstance та issubclass."
      ],
      "metadata": {
        "id": "WxW51aGIhN2q"
      }
    },
    {
      "cell_type": "code",
      "source": [
        "print(issubclass(Circle, Figure))\n",
        "print(isinstance('valentyn', int))"
      ],
      "metadata": {
        "id": "E-QybeYShdAu",
        "colab": {
          "base_uri": "https://localhost:8080/"
        },
        "outputId": "051e26ec-532b-4afa-e859-89d34af322d5"
      },
      "execution_count": 7,
      "outputs": [
        {
          "output_type": "stream",
          "name": "stdout",
          "text": [
            "True\n",
            "False\n"
          ]
        }
      ]
    },
    {
      "cell_type": "markdown",
      "source": [
        "7. (16б). Створіть клас BankAccount з приватними атрибутами balance та account_number.\n",
        "Реалізуйте методи поповнення та зняття коштів, забезпечивши належну інкапсуляцію. Підказка: використовуйте декоратори getter та setter."
      ],
      "metadata": {
        "id": "Mrup7UL3hfC3"
      }
    },
    {
      "cell_type": "code",
      "source": [
        "class BankAccount:\n",
        "  def __init__(self, account_number, balance):\n",
        "    self._account_number = account_number\n",
        "    self.__balance = balance\n",
        "\n",
        "  def get_balance(self):\n",
        "    return self.__balance\n",
        "\n",
        "  def withdraw(self, money):\n",
        "    if money > 0:\n",
        "      self.__balance -= money\n",
        "      return self.__balance\n",
        "    else:\n",
        "      print(\"Error\")\n",
        "      return None\n",
        "\n",
        "  def deposit(self, money):\n",
        "    if 0 < money <= self.__balance:\n",
        "      self.__balance += money\n",
        "      return self.__balance\n",
        "    else:\n",
        "      print(\"Error\")\n",
        "      return None\n",
        "\n",
        "my_accaunt = BankAccount(1, 400)\n",
        "\n",
        "print(my_accaunt.get_balance())\n",
        "print(my_accaunt.withdraw(200))\n",
        "print(my_accaunt.deposit(100))"
      ],
      "metadata": {
        "id": "Vi8gw9G6i37Y",
        "colab": {
          "base_uri": "https://localhost:8080/"
        },
        "outputId": "023a458f-6188-4cee-9b9f-27b98b6f031b"
      },
      "execution_count": 1,
      "outputs": [
        {
          "output_type": "stream",
          "name": "stdout",
          "text": [
            "400\n",
            "200\n",
            "300\n"
          ]
        }
      ]
    },
    {
      "cell_type": "markdown",
      "source": [
        "8. (16б). Створіть клас Library, який містить список об'єктів типу Book.\n",
        "Реалізуйте методи для додавання книги, видалення книги та відображення списку книг."
      ],
      "metadata": {
        "id": "q1mgZYuFjB_q"
      }
    },
    {
      "cell_type": "code",
      "source": [
        "class Book:\n",
        "    def __init__(self, title, author):\n",
        "        self.title = title\n",
        "        self.author = author\n",
        "\n",
        "class Library:\n",
        "    def __init__(self):\n",
        "        self.books = []\n",
        "\n",
        "    def add_book(self, book):\n",
        "        self.books.append(book)\n",
        "        print(\"add to the library\")\n",
        "\n",
        "    def remove_book(self, title):\n",
        "        for book in self.books:\n",
        "            if book.title == title:\n",
        "                self.books.remove(book)\n",
        "                print(f\"remove {book.title}\")\n",
        "                return\n",
        "        print(f\"Book '{title}' not found\")\n",
        "\n",
        "    def display_books(self):\n",
        "        if not self.books:\n",
        "            print(\"empty\")\n",
        "        else:\n",
        "            print(\"books:\")\n",
        "            for book in self.books:\n",
        "                print(f\"   {book.title} by {book.author}\")\n",
        "\n",
        "book1 = Book(\"The Great Gatsby\", \"F. Scott Fitzgerald\")\n",
        "book2 = Book(\"To Kill a Mockingbird\", \"Harper Lee\")\n",
        "book3 = Book(\"1984\", \"George Orwell\")\n",
        "\n",
        "library = Library()\n",
        "library.add_book(book1)\n",
        "library.add_book(book2)\n",
        "library.add_book(book3)\n",
        "library.display_books()\n",
        "library.remove_book(\"The Great Gatsby\")\n",
        "library.display_books()"
      ],
      "metadata": {
        "id": "z1W8DINmjQQj",
        "colab": {
          "base_uri": "https://localhost:8080/"
        },
        "outputId": "e391949a-4224-400a-f071-10398d2f55d0"
      },
      "execution_count": 2,
      "outputs": [
        {
          "output_type": "stream",
          "name": "stdout",
          "text": [
            "add to the library\n",
            "add to the library\n",
            "add to the library\n",
            "books:\n",
            "   The Great Gatsby by F. Scott Fitzgerald\n",
            "   To Kill a Mockingbird by Harper Lee\n",
            "   1984 by George Orwell\n",
            "remove The Great Gatsby\n",
            "books:\n",
            "   To Kill a Mockingbird by Harper Lee\n",
            "   1984 by George Orwell\n"
          ]
        }
      ]
    },
    {
      "cell_type": "markdown",
      "source": [
        "9. (13б). Створіть клас Person з атрибутами name та age.\n",
        "Створіть ще один клас Employee з такими атрибутами, як department та salary.\n",
        "Створіть клас Manager, який успадковує обидва класи Person та Employee. Продемонструйте використання множинної спадковості, створивши обʼєкт класу Manager та отримавши mro для цього класу."
      ],
      "metadata": {
        "id": "cCzctafPjwiZ"
      }
    },
    {
      "cell_type": "code",
      "source": [
        "class Person:\n",
        "    def __init__(self, name, age):\n",
        "        self.name = name\n",
        "        self.age = age\n",
        "\n",
        "class Employee:\n",
        "    def __init__(self, department, salary):\n",
        "        self.department = department\n",
        "        self.salary = salary\n",
        "\n",
        "class Manager(Person, Employee):\n",
        "    def __init__(self, name, age, department, salary, title):\n",
        "        Person.__init__(self, name, age)\n",
        "        Employee.__init__(self, department, salary)\n",
        "        self.title = title\n",
        "\n",
        "manager = Manager(name=\"Valentyn Zatserkovnyi\", age=19, department=\"HR\", salary=60000, title=\"Senior Manager\")\n",
        "\n",
        "print(f\"Ім'я: {manager.name}\")\n",
        "print(f\"Вік: {manager.age}\")\n",
        "print(f\"Відділ: {manager.department}\")\n",
        "print(f\"Зарплата: {manager.salary}\")\n",
        "print(f\"Посада: {manager.title}\")\n",
        "\n",
        "print(Manager.mro())"
      ],
      "metadata": {
        "id": "tZQ8-tfPk1k5",
        "colab": {
          "base_uri": "https://localhost:8080/"
        },
        "outputId": "09cb5fbe-1b06-4567-978d-4c7353862bcd"
      },
      "execution_count": 4,
      "outputs": [
        {
          "output_type": "stream",
          "name": "stdout",
          "text": [
            "Ім'я: Valentyn Zatserkovnyi\n",
            "Вік: 19\n",
            "Відділ: HR\n",
            "Зарплата: 60000\n",
            "Посада: Senior Manager\n",
            "[<class '__main__.Manager'>, <class '__main__.Person'>, <class '__main__.Employee'>, <class 'object'>]\n"
          ]
        }
      ]
    },
    {
      "cell_type": "markdown",
      "source": [
        "# Вітаю! Ви велика(ий) молодець, що впоралась(вся). Похваліть себе та побалуйте чимось приємним. Я Вами пишаюся."
      ],
      "metadata": {
        "id": "dzH9DdFTOxCC"
      }
    }
  ]
}